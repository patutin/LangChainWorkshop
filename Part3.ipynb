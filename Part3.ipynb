{
 "cells": [
  {
   "cell_type": "code",
   "execution_count": null,
   "id": "8076b8e3-24b4-4a48-968b-8a375cd7bdd1",
   "metadata": {},
   "outputs": [],
   "source": [
    "# Set openai key\n",
    "# Please gen and add `OPENAI_API_KEY` in the `.env` file in the current directory\n",
    "# https://platform.openai.com/account/api-keys\n",
    "# Please gen and add `SERPAPI_API_KEY` in the `.env` file in the current directory\n",
    "# https://serpapi.com/dashboard\n",
    "# Create a new project at https://console.developers.google.com/apis/dashboard\n",
    "# Create a new API key at https://console.developers.google.com/apis/credentials\n",
    "# Enable the Custom Search API at https://console.developers.google.com/apis/library/customsearch.googleapis.com\n",
    "# Create a new Custom Search Engine at https://cse.google.com/cse/all\n",
    "# Add your API Key as `GCS_DEVELOPER_KEY` and your Custom Search Engine ID as `GCS_CX` to your .env file\n",
    "import os\n",
    "\n",
    "from dotenv import load_dotenv\n",
    "\n",
    "load_dotenv()"
   ]
  },
  {
   "cell_type": "code",
   "execution_count": null,
   "id": "b0419156-f425-49dc-9894-2d876cbc3691",
   "metadata": {},
   "outputs": [],
   "source": [
    "LLM_MODEL = \"gpt-3.5-turbo\""
   ]
  },
  {
   "cell_type": "markdown",
   "id": "14c1004c-3679-4925-a191-4c41ab4d100b",
   "metadata": {},
   "source": [
    "## Simple tools"
   ]
  },
  {
   "cell_type": "code",
   "execution_count": null,
   "id": "684433e5-695d-4c8c-a4f0-74011e62fe0c",
   "metadata": {},
   "outputs": [],
   "source": [
    "from langchain.chat_models import ChatOpenAI\n",
    "from langchain.chains import LLMChain\n",
    "\n",
    "llm = ChatOpenAI(temperature=1, model=LLM_MODEL)"
   ]
  },
  {
   "cell_type": "code",
   "execution_count": null,
   "id": "717866cb-d6e3-40d5-b4dd-fde101f78012",
   "metadata": {},
   "outputs": [],
   "source": [
    "# Without wiki tool\n",
    "print(llm.invoke(\"Why did the Whisky War between Denmark and Canada start?\").content)"
   ]
  },
  {
   "cell_type": "code",
   "execution_count": null,
   "id": "af010a94-cfc8-475d-9910-5f46f6e8237c",
   "metadata": {},
   "outputs": [],
   "source": [
    "# With wiki tool\n",
    "from langchain.agents import initialize_agent, load_tools\n",
    "\n",
    "\n",
    "tools = load_tools([\"wikipedia\",], llm=llm)\n",
    "agent = initialize_agent(\n",
    "    tools,\n",
    "    llm,\n",
    "    handle_parsing_errors=True,\n",
    ")"
   ]
  },
  {
   "cell_type": "code",
   "execution_count": null,
   "id": "7e17fe70-bfb0-481e-9e45-a47626fec3c0",
   "metadata": {},
   "outputs": [],
   "source": [
    "# https://en.wikipedia.org/wiki/Whisky_War\n",
    "agent.run(\"Why did the Whisky War between Denmark and Canada start?\")"
   ]
  },
  {
   "cell_type": "markdown",
   "id": "2a1597a6-ebb6-4977-850e-7e3f99e25004",
   "metadata": {},
   "source": [
    "## SerpAPI Tool"
   ]
  },
  {
   "cell_type": "code",
   "execution_count": null,
   "id": "3051de7f-8a17-402e-b62d-62e539c7cdec",
   "metadata": {},
   "outputs": [],
   "source": [
    "from langchain.utilities import SerpAPIWrapper\n",
    "from langchain.tools import Tool\n",
    "from langchain.agents import AgentType\n",
    "from langchain.agents import initialize_agent"
   ]
  },
  {
   "cell_type": "code",
   "execution_count": null,
   "id": "d6a789b1-eb4f-4942-b114-a43f34b7abd7",
   "metadata": {},
   "outputs": [],
   "source": [
    "search = SerpAPIWrapper()\n",
    "\n",
    "# Creating tool via `Tool` class\n",
    "serpapi_tool = Tool.from_function(\n",
    "    func=search.run,\n",
    "    name=\"Search\",\n",
    "    description=\"useful for when you need to find tweets\",\n",
    ")\n",
    "\n",
    "serp_api_agent = initialize_agent(\n",
    "    [serpapi_tool],\n",
    "    llm,\n",
    "    agent=AgentType.ZERO_SHOT_REACT_DESCRIPTION,\n",
    "    verbose=True,\n",
    "    max_execution_time=10000,\n",
    ")"
   ]
  },
  {
   "cell_type": "code",
   "execution_count": null,
   "id": "5e25c3c1-0a15-4df7-9580-5ca03ca72281",
   "metadata": {},
   "outputs": [],
   "source": [
    "serp_api_agent.run(\"What is the most popular tweet ever?\")"
   ]
  },
  {
   "cell_type": "markdown",
   "id": "48dbfd04-7185-4535-bd70-a3fac8e59807",
   "metadata": {},
   "source": [
    "## Custom tools"
   ]
  },
  {
   "cell_type": "code",
   "execution_count": null,
   "id": "11d39927-0b04-4fdf-b4b2-0606fb71b3ec",
   "metadata": {},
   "outputs": [],
   "source": [
    "from langchain.agents import tool\n",
    "from datetime import date\n",
    "\n",
    "# Creating tool via decorator `tool`. Docstring is used for descrition of a tool\n",
    "@tool\n",
    "def time(text: str) -> str:\n",
    "    \"\"\"Returns todays date, use this for any questions related to knowing todays date.\n",
    "    This function will always return todays date - any date mathmatics should occur outside this function.\n",
    "    \"\"\"\n",
    "    return date.today().strftime(\"%d %B, %Y\")"
   ]
  },
  {
   "cell_type": "code",
   "execution_count": null,
   "id": "16368e80-9784-4b0f-9082-b5513abec3ce",
   "metadata": {},
   "outputs": [],
   "source": [
    "time_agent = initialize_agent(\n",
    "    [time],\n",
    "    llm,\n",
    "    agent=AgentType.ZERO_SHOT_REACT_DESCRIPTION,\n",
    "    verbose=True,\n",
    "    max_execution_time=10000,\n",
    ")\n",
    "\n",
    "time_agent.run(\"Date of today\")"
   ]
  },
  {
   "cell_type": "code",
   "execution_count": null,
   "id": "93516303-7442-456f-bc17-deb39ce648de",
   "metadata": {},
   "outputs": [],
   "source": [
    "from langchain.agents import tool\n",
    "from IPython.display import Image, display\n",
    "from googleapiclient.discovery import build\n",
    "\n",
    "@tool\n",
    "def show_image_of(dish: str) -> str:\n",
    "    \"\"\"\n",
    "    Use it to show an image of the provided dish.\n",
    "    This function has an input parameter `dish`.\n",
    "    According to this parameter, the function will try to find and display an image.\n",
    "    The function returns True if an image of the requested dish was displayed and False otherwise.\n",
    "    \"\"\"\n",
    "    try:\n",
    "        service = build(\n",
    "            \"customsearch\", \"v1\", developerKey=os.environ[\"GCS_DEVELOPER_KEY\"]\n",
    "        )\n",
    "\n",
    "        search_res = (\n",
    "            service.cse()\n",
    "            .list(\n",
    "                q=dish,\n",
    "                cx=os.environ[\"GCS_CX\"],\n",
    "                searchType='image',\n",
    "                num=1,\n",
    "            )\n",
    "            .execute()\n",
    "        )\n",
    "        url = search_res[\"items\"][0][\"link\"]\n",
    "        display(Image(url=url))\n",
    "    except Exception as err:\n",
    "        print(err)\n",
    "        return False\n",
    "    return True"
   ]
  },
  {
   "cell_type": "code",
   "execution_count": null,
   "id": "06ff48d7-abd5-41da-a7b1-8f741ae992be",
   "metadata": {},
   "outputs": [],
   "source": [
    "image_agent = initialize_agent(\n",
    "    [show_image_of],\n",
    "    llm,\n",
    "    max_execution_time=10000,\n",
    ")"
   ]
  },
  {
   "cell_type": "code",
   "execution_count": null,
   "id": "8453d38b-64d0-436e-b9c1-9c061e270bac",
   "metadata": {},
   "outputs": [],
   "source": [
    "image_agent.run(\"Provide information about pizza and display photo\")"
   ]
  },
  {
   "cell_type": "markdown",
   "id": "49ae8b63-1ca5-47f7-8af2-859921a1b675",
   "metadata": {},
   "source": [
    "### Using agent in a chain"
   ]
  },
  {
   "cell_type": "code",
   "execution_count": null,
   "id": "e4a37dfa-0980-4daa-94dd-f2d5967d67b1",
   "metadata": {},
   "outputs": [],
   "source": [
    "from langchain.prompts import ChatPromptTemplate\n",
    "\n",
    "llm = ChatOpenAI(model=LLM_MODEL)"
   ]
  },
  {
   "cell_type": "code",
   "execution_count": null,
   "id": "fbd4ecf9-fd63-4137-806a-b62b06ca351d",
   "metadata": {},
   "outputs": [],
   "source": [
    "prompt1 = ChatPromptTemplate.from_template(\n",
    "    \"\"\"\n",
    "    Provide the most popular meal of {country}.\n",
    "    The answer must contain ONLY the dish.\n",
    "    \"\"\"\n",
    ")\n",
    "\n",
    "chain1 = prompt1 | llm"
   ]
  },
  {
   "cell_type": "code",
   "execution_count": null,
   "id": "a3e6dc0d-3d35-4942-8d0b-052498c8b42d",
   "metadata": {},
   "outputs": [],
   "source": [
    "print(chain1.invoke({\"country\": \"Itali\"}).content)"
   ]
  },
  {
   "cell_type": "code",
   "execution_count": null,
   "id": "0ef1f952-0821-4d44-aefa-5a4104b47fa8",
   "metadata": {},
   "outputs": [],
   "source": [
    "import requests\n",
    "from bs4 import BeautifulSoup\n",
    "\n",
    "@tool\n",
    "def provide_recipe_of(dish: str) -> str:\n",
    "    \"\"\"\n",
    "    Use it to find the recipe for a dish.\n",
    "    This function has an input parameter `dish`.\n",
    "    According to this parameter, the function will try to find the recipe of the requested meal and return recipe as a string.\n",
    "    The parsing of recipe, summarization, and formatting (like making step-by-step instructions) must be done beyond this function.\n",
    "    The function returns an empty string if the recipe is not found.\n",
    "    \"\"\"\n",
    "    try:\n",
    "        service = build(\n",
    "            \"customsearch\", \"v1\", developerKey=os.environ[\"GCS_DEVELOPER_KEY\"]\n",
    "        )\n",
    "\n",
    "        search_res = (\n",
    "            service.cse()\n",
    "            .list(\n",
    "                q=f\"{dish} recipe\",\n",
    "                cx=os.environ[\"GCS_CX\"],\n",
    "                num=10,\n",
    "            )\n",
    "            .execute()\n",
    "        )\n",
    "\n",
    "        for item in search_res[\"items\"]:\n",
    "            response = requests.get(item[\"link\"])\n",
    "            if response.status_code == 200:\n",
    "                break\n",
    "        else:\n",
    "            return \"\"\n",
    "\n",
    "        bs = BeautifulSoup(response.text, features=\"html.parser\")\n",
    "\n",
    "        recipe = \"\\n\".join(line for line in bs.get_text().split(\"\\n\") if len(line)).lower()\n",
    "    \n",
    "    except Exception as err:\n",
    "        return \"\"\n",
    "    else:\n",
    "        return recipe[5000:15000]\n",
    "\n",
    "\n",
    "dish_agent = initialize_agent(\n",
    "    [\n",
    "        *load_tools([\"wikipedia\",], llm=llm),\n",
    "        show_image_of,\n",
    "        provide_recipe_of,\n",
    "    ],\n",
    "    llm,\n",
    "    handle_parsing_errors=True,\n",
    ")\n",
    "\n",
    "prompt2 = ChatPromptTemplate.from_template(\n",
    "    \"\"\"\n",
    "    Provide information from wiki, step-by-step recipe, and display a photo of the following meal: {meal}.\n",
    "    \"\"\"\n",
    ")\n",
    "\n",
    "chain2 = {\"meal\": chain1} | prompt2 | dish_agent"
   ]
  },
  {
   "cell_type": "code",
   "execution_count": null,
   "id": "10d6caac-1f9d-4804-845a-4702601d48fc",
   "metadata": {},
   "outputs": [],
   "source": [
    "print(chain2.invoke({\"country\": \"Itali\"})[\"output\"])"
   ]
  }
 ],
 "metadata": {
  "kernelspec": {
   "display_name": "Python 3 (ipykernel)",
   "language": "python",
   "name": "python3"
  },
  "language_info": {
   "codemirror_mode": {
    "name": "ipython",
    "version": 3
   },
   "file_extension": ".py",
   "mimetype": "text/x-python",
   "name": "python",
   "nbconvert_exporter": "python",
   "pygments_lexer": "ipython3",
   "version": "3.11.6"
  }
 },
 "nbformat": 4,
 "nbformat_minor": 5
}
