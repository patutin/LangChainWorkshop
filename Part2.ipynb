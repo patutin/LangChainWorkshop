{
 "cells": [
  {
   "cell_type": "code",
   "execution_count": null,
   "id": "3da462a3-0929-4822-8040-c4350248442d",
   "metadata": {},
   "outputs": [],
   "source": [
    "# Set openai key\n",
    "# Please gen and add `OPENAI_API_KEY` in the `.env` file in the current directory\n",
    "# https://platform.openai.com/account/api-keys\n",
    "# Please gen and add `HUGGINGFACEHUB_API_TOKEN` in the `.env` file in the current directory\n",
    "# https://huggingface.co/settings/tokens\n",
    "import os\n",
    "\n",
    "from dotenv import load_dotenv\n",
    "\n",
    "load_dotenv()"
   ]
  },
  {
   "cell_type": "code",
   "execution_count": null,
   "id": "a6f7dd37-3946-489d-b37e-6ea3ee533b7b",
   "metadata": {},
   "outputs": [],
   "source": [
    "LLM_MODEL = \"gpt-3.5-turbo\""
   ]
  },
  {
   "cell_type": "markdown",
   "id": "d5acaf4b-85a7-40db-92c8-c3c05dd27ab7",
   "metadata": {},
   "source": [
    "### Legacy Chains"
   ]
  },
  {
   "cell_type": "markdown",
   "id": "11f2937d-47ae-4031-a762-39b22b5b0b06",
   "metadata": {},
   "source": [
    "#### LLM chain"
   ]
  },
  {
   "cell_type": "code",
   "execution_count": null,
   "id": "d1b1a545-8185-4d7d-84ef-e2e615789486",
   "metadata": {},
   "outputs": [],
   "source": [
    "from langchain.chat_models import ChatOpenAI\n",
    "from langchain.prompts import ChatPromptTemplate\n",
    "from langchain.chains import LLMChain\n",
    "\n",
    "llm = ChatOpenAI(temperature=0.9, model=LLM_MODEL)"
   ]
  },
  {
   "cell_type": "code",
   "execution_count": null,
   "id": "4bd4531a-44aa-4cd5-a22f-2084496fd92e",
   "metadata": {},
   "outputs": [],
   "source": [
    "prompt = ChatPromptTemplate.from_template(\n",
    "    \"Who is {person}?\"\n",
    ")\n",
    "\n",
    "chain = LLMChain(llm=llm, prompt=prompt)"
   ]
  },
  {
   "cell_type": "code",
   "execution_count": null,
   "id": "0d1050d2-f27d-4188-812c-cfb9ddc04cf5",
   "metadata": {},
   "outputs": [],
   "source": [
    "chain.run(\"Angus Young\")"
   ]
  },
  {
   "cell_type": "code",
   "execution_count": null,
   "id": "306a94cd-7e70-4682-937c-87b3332440e3",
   "metadata": {},
   "outputs": [],
   "source": [
    "chain.run(\"Freddie Mercury\")"
   ]
  },
  {
   "cell_type": "markdown",
   "id": "f13f00fa-672d-42e2-935e-fc21b3639d5b",
   "metadata": {},
   "source": [
    "#### Sequential chain"
   ]
  },
  {
   "cell_type": "code",
   "execution_count": null,
   "id": "383598ba-116a-464c-af4d-406e8fb2822f",
   "metadata": {},
   "outputs": [],
   "source": [
    "# prompt template 1: \n",
    "first_prompt = ChatPromptTemplate.from_template(\n",
    "    \"Who is {person}?\"\n",
    ")\n",
    "# chain 1: input -> person and output -> person_info\n",
    "first_chain = LLMChain(\n",
    "    llm=llm,\n",
    "    prompt=first_prompt, \n",
    "    output_key=\"person_info\",\n",
    ")"
   ]
  },
  {
   "cell_type": "code",
   "execution_count": null,
   "id": "76889fcd-72af-4db8-915e-e48de47ce4d0",
   "metadata": {},
   "outputs": [],
   "source": [
    "# prompt template 2: \n",
    "second_prompt = ChatPromptTemplate.from_template(\n",
    "    \"Squeeze the description of the person into one sentence with maximum 20 words: {person_info}?\"\n",
    ")\n",
    "# chain 2: input -> person_info and output -> short_info\n",
    "second_chain = LLMChain(\n",
    "    llm=llm,\n",
    "    prompt=second_prompt, \n",
    "    output_key=\"short_info\",\n",
    ")"
   ]
  },
  {
   "cell_type": "code",
   "execution_count": null,
   "id": "7b868e36-183f-442b-b533-29e75f96de41",
   "metadata": {},
   "outputs": [],
   "source": [
    "# prompt template 3: \n",
    "third_prompt = ChatPromptTemplate.from_template(\n",
    "    \"Translate the following sentence into the Spanish language: {short_info}?\"\n",
    ")\n",
    "# chain 3: input -> short_info and output -> translated_info\n",
    "third_chain = LLMChain(\n",
    "    llm=llm,\n",
    "    prompt=third_prompt,\n",
    "    output_key=\"translated_info\",\n",
    ")"
   ]
  },
  {
   "cell_type": "code",
   "execution_count": null,
   "id": "10b5c473-ceb6-48d0-a10c-79c068072512",
   "metadata": {},
   "outputs": [],
   "source": [
    "from langchain.chains import SequentialChain\n",
    "\n",
    "sequential_chain = SequentialChain(\n",
    "    chains=[first_chain, second_chain, third_chain],\n",
    "    input_variables=[\"person\"],\n",
    "    output_variables=[\"person_info\", \"short_info\", \"translated_info\"],\n",
    "    verbose=True,\n",
    ")\n",
    "\n",
    "sequential_chain(\"Angus Young\")"
   ]
  },
  {
   "cell_type": "markdown",
   "id": "2331b97c-f97f-4989-b952-481b25c202ba",
   "metadata": {},
   "source": [
    "### New API Chains"
   ]
  },
  {
   "cell_type": "code",
   "execution_count": null,
   "id": "09735a10-58b9-429d-ab23-8f1ef7c2583e",
   "metadata": {},
   "outputs": [],
   "source": [
    "from langchain.chat_models import ChatOpenAI\n",
    "from langchain.prompts import ChatPromptTemplate\n",
    "\n",
    "llm = ChatOpenAI(model=LLM_MODEL)"
   ]
  },
  {
   "cell_type": "code",
   "execution_count": null,
   "id": "f0393778-cecf-49ed-91b9-cf94cdc81a03",
   "metadata": {},
   "outputs": [],
   "source": [
    "prompt = ChatPromptTemplate.from_template(\n",
    "    \"When {person} was born?\"\n",
    ")\n",
    "\n",
    "chain = prompt | llm"
   ]
  },
  {
   "cell_type": "code",
   "execution_count": null,
   "id": "ed6ae100-8a44-4956-b1ec-9232203f28af",
   "metadata": {},
   "outputs": [],
   "source": [
    "response = chain.invoke({\"person\": \"Angus Young\"})\n",
    "response.content"
   ]
  },
  {
   "cell_type": "code",
   "execution_count": null,
   "id": "1ddffa94-b068-4b69-b9f6-95e49c2d5fa0",
   "metadata": {},
   "outputs": [],
   "source": [
    "response = chain.invoke({\"person\": \"Freddie Mercury\"})\n",
    "response.content"
   ]
  },
  {
   "cell_type": "markdown",
   "id": "35ac3fdd-8c0d-4b3b-8fab-8f7c67dc3bdd",
   "metadata": {},
   "source": [
    "#### Output parsers"
   ]
  },
  {
   "cell_type": "code",
   "execution_count": null,
   "id": "a0c4d250-42a7-4a54-8a57-62d8cf5c40f6",
   "metadata": {},
   "outputs": [],
   "source": [
    "from langchain.output_parsers import DatetimeOutputParser\n",
    "\n",
    "datetim_output_parser = DatetimeOutputParser()\n",
    "\n",
    "prompt = ChatPromptTemplate.from_template(\n",
    "    \"\"\"\n",
    "    Give answer: When {person} was born?\n",
    "    Format instruction: {format_instruction}\n",
    "    \"\"\"\n",
    ")"
   ]
  },
  {
   "cell_type": "code",
   "execution_count": null,
   "id": "5762ff18-afe2-4367-8406-661481fd05d8",
   "metadata": {},
   "outputs": [],
   "source": [
    "chain = prompt | llm | datetim_output_parser"
   ]
  },
  {
   "cell_type": "code",
   "execution_count": null,
   "id": "136bd1ad-9dfb-44e5-88ce-ab4ae65a26bd",
   "metadata": {},
   "outputs": [],
   "source": [
    "chain.invoke({\"person\": \"Angus Young\", \"format_instruction\": datetim_output_parser.get_format_instructions()})"
   ]
  },
  {
   "cell_type": "markdown",
   "id": "610c89e0-9a7f-47d2-b863-1042823b8159",
   "metadata": {},
   "source": [
    "#### Use 2 output parsers"
   ]
  },
  {
   "cell_type": "code",
   "execution_count": null,
   "id": "89b7f2c8-0236-426c-88e5-a95f2e074fb0",
   "metadata": {},
   "outputs": [],
   "source": [
    "prompt = ChatPromptTemplate.from_template(\n",
    "    \"\"\"\n",
    "    {question}\n",
    "    {format_instruction}\n",
    "    \"\"\"\n",
    ")\n",
    "\n",
    "chain = prompt | llm | datetim_output_parser"
   ]
  },
  {
   "cell_type": "code",
   "execution_count": null,
   "id": "6d9fe8eb-2a31-4d31-aa15-34977b6f6a75",
   "metadata": {},
   "outputs": [],
   "source": [
    "# Answer has wrong format\n",
    "chain.invoke({\"question\": \"When was openAI launched?\", \"format_instruction\": datetim_output_parser.get_format_instructions()})"
   ]
  },
  {
   "cell_type": "code",
   "execution_count": null,
   "id": "f572bdc0-1907-4e91-bd22-38d1cd2a064c",
   "metadata": {},
   "outputs": [],
   "source": [
    "from langchain.output_parsers import OutputFixingParser\n",
    "\n",
    "fix_parser = OutputFixingParser.from_llm(parser=datetim_output_parser, llm=ChatOpenAI(model=LLM_MODEL))\n",
    "\n",
    "chain = prompt | llm | (datetim_output_parser and fix_parser)"
   ]
  },
  {
   "cell_type": "code",
   "execution_count": null,
   "id": "700e7101-2d41-4c6c-a9a0-dab3427562b8",
   "metadata": {},
   "outputs": [],
   "source": [
    "chain.invoke({\"question\": \"When was openAI launched?\", \"format_instruction\": datetim_output_parser.get_format_instructions()})"
   ]
  },
  {
   "cell_type": "markdown",
   "id": "69c0a28d-ff71-409c-a74c-2f2f84238d6c",
   "metadata": {},
   "source": [
    "#### Multiple chains"
   ]
  },
  {
   "cell_type": "code",
   "execution_count": null,
   "id": "ff1b747a-d72e-45b4-ba3b-7fb94eafd485",
   "metadata": {},
   "outputs": [],
   "source": [
    "import warnings\n",
    "warnings.filterwarnings(\"ignore\")"
   ]
  },
  {
   "cell_type": "code",
   "execution_count": null,
   "id": "52fd2f88-1820-4519-86f1-7c1434aa0026",
   "metadata": {},
   "outputs": [],
   "source": [
    "from langchain.llms import HuggingFaceHub\n",
    "from langchain.chat_models import ChatOpenAI\n",
    "from langchain.prompts import ChatPromptTemplate"
   ]
  },
  {
   "cell_type": "code",
   "execution_count": null,
   "id": "baeb37d0-c470-4047-9b38-335df230ad99",
   "metadata": {},
   "outputs": [],
   "source": [
    "prompt1 = ChatPromptTemplate.from_template(\"Write a huge story about {story_object}\")\n",
    "ll1 = ChatOpenAI(model=LLM_MODEL)\n",
    "\n",
    "chain1 = prompt1 | ll1"
   ]
  },
  {
   "cell_type": "code",
   "execution_count": null,
   "id": "1fe956e7-19d0-4371-8a05-d548e57323d4",
   "metadata": {},
   "outputs": [],
   "source": [
    "prompt2 = ChatPromptTemplate.from_template(\n",
    "    \"\"\"\n",
    "    You are pirate. Make a short review of provided story.\n",
    "    Story: ```{story}```\n",
    "    \"\"\"\n",
    ")\n",
    "ll2 = ChatOpenAI(model=LLM_MODEL)\n",
    "chain2 = {\"story\": chain1} | prompt2 | ll2"
   ]
  },
  {
   "cell_type": "code",
   "execution_count": null,
   "id": "4a4e1985-85cb-42fe-a675-8d7bd9b1a98c",
   "metadata": {},
   "outputs": [],
   "source": [
    "print(chain2.invoke({\"story_object\": \"pizza\"}).content)"
   ]
  },
  {
   "cell_type": "code",
   "execution_count": null,
   "id": "659f49a2-88c6-4903-89a9-cbd18dc63471",
   "metadata": {},
   "outputs": [],
   "source": [
    "prompt3 = ChatPromptTemplate.from_template(\"```{text}```\")\n",
    "sumorization_model = HuggingFaceHub(repo_id=\"facebook/bart-large-cnn\")\n",
    "chain3 = {\"text\": chain2} | prompt3 | sumorization_model"
   ]
  },
  {
   "cell_type": "code",
   "execution_count": null,
   "id": "65d04709-3b41-4c0f-ac26-97b8d8ceb1f2",
   "metadata": {},
   "outputs": [],
   "source": [
    "print(chain3.invoke({\"story_object\": \"pizza\"}))"
   ]
  }
 ],
 "metadata": {
  "kernelspec": {
   "display_name": "venv",
   "language": "python",
   "name": "venv"
  },
  "language_info": {
   "codemirror_mode": {
    "name": "ipython",
    "version": 3
   },
   "file_extension": ".py",
   "mimetype": "text/x-python",
   "name": "python",
   "nbconvert_exporter": "python",
   "pygments_lexer": "ipython3",
   "version": "3.11.6"
  }
 },
 "nbformat": 4,
 "nbformat_minor": 5
}
