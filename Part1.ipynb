{
 "cells": [
  {
   "cell_type": "code",
   "execution_count": null,
   "id": "a1018e56",
   "metadata": {},
   "outputs": [],
   "source": [
    "# Set openai key\n",
    "# Please gen and add `OPENAI_API_KEY` in the `.env` file in the current directory\n",
    "# https://platform.openai.com/account/api-keys\n",
    "import os\n",
    "\n",
    "from dotenv import load_dotenv\n",
    "\n",
    "load_dotenv()"
   ]
  },
  {
   "cell_type": "code",
   "execution_count": null,
   "id": "946fe709",
   "metadata": {},
   "outputs": [],
   "source": [
    "LLM_MODEL = \"gpt-3.5-turbo\""
   ]
  },
  {
   "cell_type": "code",
   "execution_count": null,
   "id": "34406e85",
   "metadata": {},
   "outputs": [],
   "source": [
    "# Creating OpenAI chat\n",
    "from langchain.chat_models import ChatOpenAI\n",
    "\n",
    "chat = ChatOpenAI(model=LLM_MODEL)"
   ]
  },
  {
   "cell_type": "code",
   "execution_count": null,
   "id": "0a49a6a6",
   "metadata": {},
   "outputs": [],
   "source": [
    "# Creating promt template\n",
    "from langchain.prompts import ChatPromptTemplate\n",
    "\n",
    "question_template = \"\"\"\n",
    "I was hoping you could provide me a detailed recipe dish that I can make from only the following ingredients:\n",
    "{ingredients}.\n",
    "Use all listed ingredients.\n",
    "\"\"\"\n",
    "\n",
    "prompt_template = ChatPromptTemplate.from_template(question_template)"
   ]
  },
  {
   "cell_type": "code",
   "execution_count": null,
   "id": "b41b9077",
   "metadata": {},
   "outputs": [],
   "source": [
    "# Generate questions to OpenAI from template\n",
    "\n",
    "ingredients = [\n",
    "    \"1 egg\",\n",
    "    \"1 bottle of coke\",\n",
    "    \"chiken\",\n",
    "    \"salt\",\n",
    "    \"basil\",\n",
    "    \"coconut milk 200 ml\",\n",
    "]\n",
    "\n",
    "messages = prompt_template.format_messages(ingredients=\", \".join(ingredients))\n",
    "\n",
    "print(messages[0].content)"
   ]
  },
  {
   "cell_type": "code",
   "execution_count": null,
   "id": "1f593943",
   "metadata": {},
   "outputs": [],
   "source": [
    "# Ask OpenAI\n",
    "\n",
    "response = chat(messages)\n",
    "\n",
    "print(response.content)"
   ]
  }
 ],
 "metadata": {
  "kernelspec": {
   "display_name": "venv",
   "language": "python",
   "name": "venv"
  },
  "language_info": {
   "codemirror_mode": {
    "name": "ipython",
    "version": 3
   },
   "file_extension": ".py",
   "mimetype": "text/x-python",
   "name": "python",
   "nbconvert_exporter": "python",
   "pygments_lexer": "ipython3",
   "version": "3.11.5"
  }
 },
 "nbformat": 4,
 "nbformat_minor": 5
}
