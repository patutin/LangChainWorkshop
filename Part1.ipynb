{
 "cells": [
  {
   "cell_type": "code",
   "execution_count": null,
   "id": "913edebc",
   "metadata": {},
   "outputs": [],
   "source": [
    "# Set openai key\n",
    "# Please gen and add `OPENAI_API_KEY` in the `.env` file in the current directory\n",
    "# https://platform.openai.com/account/api-keys\n",
    "import os\n",
    "\n",
    "from dotenv import load_dotenv\n",
    "\n",
    "load_dotenv()"
   ]
  },
  {
   "cell_type": "markdown",
   "id": "224c6386-7a2b-45b5-9566-732a43634f8f",
   "metadata": {},
   "source": [
    "### Models"
   ]
  },
  {
   "cell_type": "code",
   "execution_count": null,
   "id": "148cf249",
   "metadata": {},
   "outputs": [],
   "source": [
    "LLM_MODEL = \"gpt-3.5-turbo\""
   ]
  },
  {
   "cell_type": "code",
   "execution_count": null,
   "id": "55743ccf",
   "metadata": {},
   "outputs": [],
   "source": [
    "# Creating OpenAI chat\n",
    "from langchain.chat_models import ChatOpenAI\n",
    "\n",
    "chat = ChatOpenAI(model=LLM_MODEL)"
   ]
  },
  {
   "cell_type": "code",
   "execution_count": null,
   "id": "6142af68-69c6-4442-babe-043a0e8c6845",
   "metadata": {},
   "outputs": [],
   "source": [
    "# Simple messages\n",
    "from langchain.schema import HumanMessage\n",
    "\n",
    "question = \"When did Elon Musk buy twitter?\"\n",
    "\n",
    "messages = [HumanMessage(content=question)]\n",
    "chat(messages)"
   ]
  },
  {
   "cell_type": "markdown",
   "id": "17dbb9a3-5a6c-4e61-8521-01b164147196",
   "metadata": {},
   "source": [
    "### Prompts"
   ]
  },
  {
   "cell_type": "code",
   "execution_count": null,
   "id": "b8d37f64",
   "metadata": {},
   "outputs": [],
   "source": [
    "# Creating prompt template\n",
    "from langchain.prompts import ChatPromptTemplate\n",
    "\n",
    "question_template = \"\"\"\n",
    "I was hoping you could provide me a detailed recipe dish that I can make from only the following ingredients:\n",
    "{ingredients}.\n",
    "Use all listed ingredients.\n",
    "\"\"\"\n",
    "\n",
    "prompt_template = ChatPromptTemplate.from_template(question_template)"
   ]
  },
  {
   "cell_type": "code",
   "execution_count": null,
   "id": "f7ee5166",
   "metadata": {},
   "outputs": [],
   "source": [
    "# Generate questions to OpenAI from template\n",
    "\n",
    "ingredients = [\n",
    "    \"1 egg\",\n",
    "    \"1 bottle of coke\",\n",
    "    \"chiken\",\n",
    "    \"salt\",\n",
    "    \"basil\",\n",
    "    \"coconut milk 200 ml\",\n",
    "]\n",
    "\n",
    "messages = prompt_template.format_messages(ingredients=\", \".join(ingredients))\n",
    "\n",
    "print(messages[0].content)"
   ]
  },
  {
   "cell_type": "code",
   "execution_count": null,
   "id": "f892dc80",
   "metadata": {},
   "outputs": [],
   "source": [
    "# Ask OpenAI\n",
    "response = chat(messages)\n",
    "print(response.content)"
   ]
  },
  {
   "cell_type": "code",
   "execution_count": null,
   "id": "40b4dc9f-c7d2-4e36-837c-a6c3ae061010",
   "metadata": {},
   "outputs": [],
   "source": [
    "# A more complicated prompt template\n",
    "\n",
    "raw_template = \"\"\"\n",
    "Translate this text that is delimited by triple backticks from {original_language} to {destination_language}.\n",
    "After translation make a short description in the {style_type} style.\n",
    "```{text}```\n",
    "\"\"\"\n",
    "\n",
    "original_text = \"\"\"\n",
    "メロスは怒った。悪い王様を許せないと思いました。メロスは難しいことがわかりません。メロスは村で楽しく生活をしていました。しかし、メロスは悪いことを許せません。メロスは村からシクラスという街に来ました。メロスにはお父さんもお母さんもいません。奥さんもいません。１６歳の妹と二人で生活をしています。妹はもうすぐ結婚します。メロスは結婚式の用意のために買い物をしに街に来たのです。街を歩いていると、メロスは街がおかしいと思いました。前に来た時より、街がとても静かなのです。そこで、メロスは街の人に聞きました。「なぜ街が静かなのですか？」\n",
    "\"\"\"\n",
    "\n",
    "prompt_template = ChatPromptTemplate.from_template(raw_template)\n",
    "\n",
    "messages = prompt_template.format_messages(\n",
    "    original_language=\"Japanese\",\n",
    "    destination_language=\"English\",\n",
    "    style_type=\"Pirate\",\n",
    "    text=original_text,\n",
    ")"
   ]
  },
  {
   "cell_type": "code",
   "execution_count": null,
   "id": "1aa23382-f9cc-4cae-bced-b22d26df82bf",
   "metadata": {},
   "outputs": [],
   "source": [
    "messages[0].content"
   ]
  },
  {
   "cell_type": "code",
   "execution_count": null,
   "id": "67dbd3c4-c22b-4324-8fb0-5e4a7f364d35",
   "metadata": {},
   "outputs": [],
   "source": [
    "# Ask OpenAI\n",
    "response = chat(messages)\n",
    "print(response.content)"
   ]
  },
  {
   "cell_type": "markdown",
   "id": "9bc7fad0-cfb3-42bd-9130-8ec275ca6323",
   "metadata": {},
   "source": [
    "### Output parsers"
   ]
  },
  {
   "cell_type": "code",
   "execution_count": null,
   "id": "4a6c4f0d-edfc-4968-a201-683fec06395f",
   "metadata": {},
   "outputs": [],
   "source": [
    "# Template includes output format\n",
    "cv_template = \"\"\"\n",
    "Parse CV and extract the following information from it.\n",
    "Format the output as JSON with the following keys:\n",
    "title - candidate's title (string)\n",
    "experience - candidate's experience in years (number)\n",
    "projects - list of projects the candidate worked on (list of objects with keys: project_name and company)\n",
    "skills - list of candidate's skills (list of strings)\n",
    "short_summary - what tasks the candidate worked on the most (string)\n",
    "```{cv}```\n",
    "\"\"\"\n",
    "\n",
    "cv = \"\"\"\n",
    "Junior Python Developer\n",
    "Tallahassee, Florida • +1-234-456-789 • professionalemail@resumeworded.com • linkedin.com/in/username\n",
    "\n",
    "Resume Worded, New York, NY 09/2015 – Present\n",
    "Augmented reality startup with 50+ employees and $100m+ annual revenue\n",
    "\n",
    "Junior Python Developer\n",
    "1. Collaborated with a 10-member team to design a content aggregator and expense tracker that provided\n",
    "solutions with 71% code churn.\n",
    "2. Developed the API, backend, and frontend for a single-page application within the first 30+ days of joining\n",
    "the team.\n",
    "3. Created views and templates using Python and Django's view controller and templating language to develop\n",
    "10+ user-friendly interfaces.\n",
    "4. Modified functions, cursors, queries, triggers, and stored procedures for MySQL database while processing\n",
    "data; improved system performance by 84%.\n",
    "Polyhire, London, United Kingdom 10/2012 – 08/2015\n",
    "Provides quality assurance and control testing for global markets\n",
    "\n",
    "Software Tester\n",
    "1. Created a testing framework that boosted efficiency in detecting errors before release, improving the\n",
    "company's software production schedule by 58%.\n",
    "2. Uncovered security vulnerabilities in 10+ applications via manual review and automated tools; escalated\n",
    "findings to RW's software security unit.\n",
    "3. Detected a critical defect in some production codes that saved the company from a $200K flawed\n",
    "investment.\n",
    "Growthsi, London, United Kingdom 07/2010 – 09/2012\n",
    "Career training and membership SaaS with 150,000 paying users\n",
    "SQL DBA\n",
    "4. Consolidated 30+ SQL Server databases into 20 and merged all company hardware, reducing 33% of the\n",
    "original hardware acquisition cost.\n",
    "5. Explained backup policies of data to senior management during a 15-day seminar that non-technical\n",
    "attendees attended.\n",
    "6. Controlled access to applications and data by 2100+ users, saving $30K in quarterly licensing fees in the\n",
    "first year of employment.\n",
    "Disaster Recovery Specialist, ABC Company, London, United Kingdom 11/2008 – 12/2009\n",
    "Coder, XYZ Company, London, United Kingdom 07/2005 – 10/2008\n",
    "EDUCATION\n",
    "_______________________________________________________________________________________________________________\n",
    "Resume Worded University, New York, NY 06/2005\n",
    "Associate of Applied Science — Computer Programming\n",
    "SKILLS\n",
    "_______________________________________________________________________________________________________________\n",
    "Web Technologies: HTML (Advanced), CSS (Experienced), Angular JS, Jira, Django 3.0, GIT Hub, MySQL, Javascript\n",
    "Techniques: Software Development, Amazon Web Services (AWS), ORM Libraries, Agile frameworks, OOPS\n",
    "\"\"\"\n",
    "\n",
    "prompt_template = ChatPromptTemplate.from_template(cv_template)\n",
    "\n",
    "messages = prompt_template.format_messages(cv=cv)"
   ]
  },
  {
   "cell_type": "code",
   "execution_count": null,
   "id": "2a337fee-966a-4f50-9456-4faa4bffda2d",
   "metadata": {},
   "outputs": [],
   "source": [
    "# Ask OpenAI\n",
    "response = chat(messages)\n",
    "parsed_cv = response.content\n",
    "print(parsed_cv)"
   ]
  },
  {
   "cell_type": "code",
   "execution_count": null,
   "id": "1a811516-bc78-48cf-b17c-2fff3a15c8ee",
   "metadata": {},
   "outputs": [],
   "source": [
    "# parsed_cv is a string, not a python dictionary\n",
    "type(parsed_cv)"
   ]
  },
  {
   "cell_type": "markdown",
   "id": "cbd8b1c0-1d00-442f-b5b3-56ec026466a2",
   "metadata": {},
   "source": [
    "#### Structured output parser​"
   ]
  },
  {
   "cell_type": "code",
   "execution_count": null,
   "id": "27b2564e-d889-4e6e-a09f-a2c105b10ad8",
   "metadata": {},
   "outputs": [],
   "source": [
    "from langchain.output_parsers import ResponseSchema\n",
    "from langchain.output_parsers import StructuredOutputParser\n",
    "\n",
    "\n",
    "title = ResponseSchema(\n",
    "    name=\"title\",\n",
    "    description=\"candidate's title\",\n",
    "    type=\"string\",\n",
    ")\n",
    "experience = ResponseSchema(\n",
    "    name=\"experience\",\n",
    "    description=\"candidate's experience in years\",\n",
    "    type=\"integer\",\n",
    ")\n",
    "projects = ResponseSchema(\n",
    "    name=\"projects\",\n",
    "    description=\"list of projects the candidate worked on\",\n",
    "    type=\"list of objects with keys: project_name and company\",\n",
    ")\n",
    "skills = ResponseSchema(\n",
    "    name=\"skills\",\n",
    "    description=\"list of candidate's skills\",\n",
    "    type=\"list of strings\",\n",
    ")\n",
    "short_summary = ResponseSchema(\n",
    "    name=\"short_summary\",\n",
    "    description=\"what tasks the candidate worked on the most\",\n",
    "    type=\"string\",\n",
    ")\n",
    "\n",
    "response_schemas = [\n",
    "    title,\n",
    "    experience,\n",
    "    projects,\n",
    "    skills,\n",
    "    short_summary,\n",
    "]"
   ]
  },
  {
   "cell_type": "code",
   "execution_count": null,
   "id": "a27a24d0-edaf-4f83-ba40-b615ac31d164",
   "metadata": {},
   "outputs": [],
   "source": [
    "output_parser = StructuredOutputParser.from_response_schemas(response_schemas)\n",
    "print(output_parser)"
   ]
  },
  {
   "cell_type": "code",
   "execution_count": null,
   "id": "7033b264-6953-488d-ae2b-c008c4ae4970",
   "metadata": {},
   "outputs": [],
   "source": [
    "format_instructions = output_parser.get_format_instructions()\n",
    "print(format_instructions)"
   ]
  },
  {
   "cell_type": "code",
   "execution_count": null,
   "id": "da3c57e3-bfc2-4ca7-82f9-0f053da8e6b0",
   "metadata": {},
   "outputs": [],
   "source": [
    "cv_template_2 = \"\"\"\n",
    "Parse CV and extract the following information from it.\n",
    "{format_instructions}\n",
    "```{cv}```\n",
    "\"\"\"\n",
    "\n",
    "prompt_template_2 = ChatPromptTemplate.from_template(template=cv_template_2)\n",
    "\n",
    "messages_2 = prompt_template_2.format_messages(\n",
    "    cv=cv,\n",
    "    format_instructions=format_instructions,  # format instruction created above\n",
    ")"
   ]
  },
  {
   "cell_type": "code",
   "execution_count": null,
   "id": "c439a558-b1eb-4aba-885a-a166532ae7a2",
   "metadata": {},
   "outputs": [],
   "source": [
    "print(messages_2[0].content)"
   ]
  },
  {
   "cell_type": "code",
   "execution_count": null,
   "id": "a0e00054-5e0e-4357-974f-cd4dcad2ba13",
   "metadata": {},
   "outputs": [],
   "source": [
    "# Ask OpenAI\n",
    "response = chat(messages)\n",
    "parsed_cv_2 = response.content\n",
    "print(parsed_cv_2)"
   ]
  },
  {
   "cell_type": "code",
   "execution_count": null,
   "id": "f5c4d91a-5072-4af0-b806-4d269e272f70",
   "metadata": {},
   "outputs": [],
   "source": [
    "type(parsed_cv_2)"
   ]
  },
  {
   "cell_type": "code",
   "execution_count": null,
   "id": "2e984d40-c7db-405e-afd7-c2bc0813deab",
   "metadata": {},
   "outputs": [],
   "source": [
    "output_dict = output_parser.parse(parsed_cv_2)\n",
    "print(output_dict)"
   ]
  },
  {
   "cell_type": "markdown",
   "id": "e59eb952-5b5f-4c91-8e4e-a606106b165d",
   "metadata": {},
   "source": [
    "#### Datetime parser"
   ]
  },
  {
   "cell_type": "code",
   "execution_count": null,
   "id": "5f026894-06db-489e-9769-de6ab52b67c6",
   "metadata": {},
   "outputs": [],
   "source": [
    "from langchain.output_parsers import DatetimeOutputParser\n",
    "\n",
    "datetim_output_parser = DatetimeOutputParser()\n",
    "template = \"\"\"\n",
    "{question}\n",
    "\n",
    "{format_instructions}\n",
    "\"\"\"\n",
    "prompt = ChatPromptTemplate.from_template(template)\n",
    "messages = prompt.format_messages(\n",
    "    question=\"When was openAI launched?\",\n",
    "    format_instructions=datetim_output_parser.get_format_instructions(),\n",
    ")"
   ]
  },
  {
   "cell_type": "code",
   "execution_count": null,
   "id": "bbde239e-90d4-4592-938e-0f0790ffca15",
   "metadata": {},
   "outputs": [],
   "source": [
    "print(messages[0].content)"
   ]
  },
  {
   "cell_type": "code",
   "execution_count": null,
   "id": "e5ce983c-969e-4d2d-9f3f-3f5816bf7f7b",
   "metadata": {},
   "outputs": [],
   "source": [
    "# Ask OpenAI\n",
    "response = chat(messages)\n",
    "response.content"
   ]
  },
  {
   "cell_type": "code",
   "execution_count": null,
   "id": "7146079e-c421-4390-9c0a-a8e113a7ece4",
   "metadata": {},
   "outputs": [],
   "source": [
    "# Answer has wrong format\n",
    "datetim_output_parser.parse(response.content)"
   ]
  },
  {
   "cell_type": "markdown",
   "id": "f0a827b8-6970-4029-83a5-b484af635d66",
   "metadata": {},
   "source": [
    "#### Fixing parser"
   ]
  },
  {
   "cell_type": "code",
   "execution_count": null,
   "id": "c2f7678d-9fb2-4c8d-823e-5ab1860c09a3",
   "metadata": {},
   "outputs": [],
   "source": [
    "from langchain.output_parsers import OutputFixingParser\n",
    "\n",
    "fix_parser = OutputFixingParser.from_llm(parser=datetim_output_parser, llm=ChatOpenAI())\n",
    "fix_parser.parse(response.content)"
   ]
  }
 ],
 "metadata": {
  "kernelspec": {
   "display_name": "venv",
   "language": "python",
   "name": "venv"
  },
  "language_info": {
   "codemirror_mode": {
    "name": "ipython",
    "version": 3
   },
   "file_extension": ".py",
   "mimetype": "text/x-python",
   "name": "python",
   "nbconvert_exporter": "python",
   "pygments_lexer": "ipython3",
   "version": "3.11.6"
  }
 },
 "nbformat": 4,
 "nbformat_minor": 5
}
